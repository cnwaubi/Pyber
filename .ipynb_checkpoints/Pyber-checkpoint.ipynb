{
 "cells": [
  {
   "cell_type": "markdown",
   "metadata": {},
   "source": [
    "# Pyber Ride Sharing\n",
    "\n",
    "## Analysis\n",
    "\n",
    "1. The Urban area has the most riders, drivers, and fares. Additionally, the Urban area had the lowest average fare of the the three types of cities.  \n",
    "2. There is a correlation betweeen number of rides and the average fare per city.\n",
    "3. urban cities had the largest percentage of total rides, and drivers. \n",
    "4. Although rural cities had the highest average fare per city they had the smallest percentage of total fares. "
   ]
  },
  {
   "cell_type": "code",
   "execution_count": 39,
   "metadata": {},
   "outputs": [],
   "source": [
    "%matplotlib inline\n",
    "#Dependencies\n",
    "import matplotlib.pyplot as plt\n",
    "import pandas as pd\n",
    "import numpy as np\n"
   ]
  },
  {
   "cell_type": "code",
   "execution_count": 40,
   "metadata": {},
   "outputs": [],
   "source": [
    "#Import city and ride data csv files\n",
    "city_data = \"Data/city_data.csv\"\n",
    "ride_data = \"Data/ride_data.csv\"\n"
   ]
  },
  {
   "cell_type": "code",
   "execution_count": 41,
   "metadata": {},
   "outputs": [
    {
     "data": {
      "text/html": [
       "<div>\n",
       "<style scoped>\n",
       "    .dataframe tbody tr th:only-of-type {\n",
       "        vertical-align: middle;\n",
       "    }\n",
       "\n",
       "    .dataframe tbody tr th {\n",
       "        vertical-align: top;\n",
       "    }\n",
       "\n",
       "    .dataframe thead th {\n",
       "        text-align: right;\n",
       "    }\n",
       "</style>\n",
       "<table border=\"1\" class=\"dataframe\">\n",
       "  <thead>\n",
       "    <tr style=\"text-align: right;\">\n",
       "      <th></th>\n",
       "      <th>city</th>\n",
       "      <th>driver_count</th>\n",
       "      <th>type</th>\n",
       "    </tr>\n",
       "  </thead>\n",
       "  <tbody>\n",
       "    <tr>\n",
       "      <th>0</th>\n",
       "      <td>Richardfort</td>\n",
       "      <td>38</td>\n",
       "      <td>Urban</td>\n",
       "    </tr>\n",
       "    <tr>\n",
       "      <th>1</th>\n",
       "      <td>Williamsstad</td>\n",
       "      <td>59</td>\n",
       "      <td>Urban</td>\n",
       "    </tr>\n",
       "    <tr>\n",
       "      <th>2</th>\n",
       "      <td>Port Angela</td>\n",
       "      <td>67</td>\n",
       "      <td>Urban</td>\n",
       "    </tr>\n",
       "    <tr>\n",
       "      <th>3</th>\n",
       "      <td>Rodneyfort</td>\n",
       "      <td>34</td>\n",
       "      <td>Urban</td>\n",
       "    </tr>\n",
       "    <tr>\n",
       "      <th>4</th>\n",
       "      <td>West Robert</td>\n",
       "      <td>39</td>\n",
       "      <td>Urban</td>\n",
       "    </tr>\n",
       "  </tbody>\n",
       "</table>\n",
       "</div>"
      ],
      "text/plain": [
       "           city  driver_count   type\n",
       "0   Richardfort            38  Urban\n",
       "1  Williamsstad            59  Urban\n",
       "2   Port Angela            67  Urban\n",
       "3    Rodneyfort            34  Urban\n",
       "4   West Robert            39  Urban"
      ]
     },
     "execution_count": 41,
     "metadata": {},
     "output_type": "execute_result"
    }
   ],
   "source": [
    "#Read City data file with Pandas\n",
    "city_data_df = pd.read_csv(city_data)\n",
    "city_data_df.head()\n"
   ]
  },
  {
   "cell_type": "code",
   "execution_count": 42,
   "metadata": {},
   "outputs": [
    {
     "data": {
      "text/html": [
       "<div>\n",
       "<style scoped>\n",
       "    .dataframe tbody tr th:only-of-type {\n",
       "        vertical-align: middle;\n",
       "    }\n",
       "\n",
       "    .dataframe tbody tr th {\n",
       "        vertical-align: top;\n",
       "    }\n",
       "\n",
       "    .dataframe thead th {\n",
       "        text-align: right;\n",
       "    }\n",
       "</style>\n",
       "<table border=\"1\" class=\"dataframe\">\n",
       "  <thead>\n",
       "    <tr style=\"text-align: right;\">\n",
       "      <th></th>\n",
       "      <th>city</th>\n",
       "      <th>date</th>\n",
       "      <th>fare</th>\n",
       "      <th>ride_id</th>\n",
       "    </tr>\n",
       "  </thead>\n",
       "  <tbody>\n",
       "    <tr>\n",
       "      <th>0</th>\n",
       "      <td>Lake Jonathanshire</td>\n",
       "      <td>2018-01-14 10:14:22</td>\n",
       "      <td>13.83</td>\n",
       "      <td>5739410935873</td>\n",
       "    </tr>\n",
       "    <tr>\n",
       "      <th>1</th>\n",
       "      <td>South Michelleport</td>\n",
       "      <td>2018-03-04 18:24:09</td>\n",
       "      <td>30.24</td>\n",
       "      <td>2343912425577</td>\n",
       "    </tr>\n",
       "    <tr>\n",
       "      <th>2</th>\n",
       "      <td>Port Samanthamouth</td>\n",
       "      <td>2018-02-24 04:29:00</td>\n",
       "      <td>33.44</td>\n",
       "      <td>2005065760003</td>\n",
       "    </tr>\n",
       "    <tr>\n",
       "      <th>3</th>\n",
       "      <td>Rodneyfort</td>\n",
       "      <td>2018-02-10 23:22:03</td>\n",
       "      <td>23.44</td>\n",
       "      <td>5149245426178</td>\n",
       "    </tr>\n",
       "    <tr>\n",
       "      <th>4</th>\n",
       "      <td>South Jack</td>\n",
       "      <td>2018-03-06 04:28:35</td>\n",
       "      <td>34.58</td>\n",
       "      <td>3908451377344</td>\n",
       "    </tr>\n",
       "  </tbody>\n",
       "</table>\n",
       "</div>"
      ],
      "text/plain": [
       "                 city                 date   fare        ride_id\n",
       "0  Lake Jonathanshire  2018-01-14 10:14:22  13.83  5739410935873\n",
       "1  South Michelleport  2018-03-04 18:24:09  30.24  2343912425577\n",
       "2  Port Samanthamouth  2018-02-24 04:29:00  33.44  2005065760003\n",
       "3          Rodneyfort  2018-02-10 23:22:03  23.44  5149245426178\n",
       "4          South Jack  2018-03-06 04:28:35  34.58  3908451377344"
      ]
     },
     "execution_count": 42,
     "metadata": {},
     "output_type": "execute_result"
    }
   ],
   "source": [
    "#Read ride data file with Pandas\n",
    "ride_data_df = pd.read_csv(ride_data)\n",
    "ride_data_df.head()"
   ]
  },
  {
   "cell_type": "code",
   "execution_count": 43,
   "metadata": {},
   "outputs": [
    {
     "data": {
      "text/html": [
       "<div>\n",
       "<style scoped>\n",
       "    .dataframe tbody tr th:only-of-type {\n",
       "        vertical-align: middle;\n",
       "    }\n",
       "\n",
       "    .dataframe tbody tr th {\n",
       "        vertical-align: top;\n",
       "    }\n",
       "\n",
       "    .dataframe thead th {\n",
       "        text-align: right;\n",
       "    }\n",
       "</style>\n",
       "<table border=\"1\" class=\"dataframe\">\n",
       "  <thead>\n",
       "    <tr style=\"text-align: right;\">\n",
       "      <th></th>\n",
       "      <th>city</th>\n",
       "      <th>driver_count</th>\n",
       "      <th>type</th>\n",
       "      <th>date</th>\n",
       "      <th>fare</th>\n",
       "      <th>ride_id</th>\n",
       "    </tr>\n",
       "  </thead>\n",
       "  <tbody>\n",
       "    <tr>\n",
       "      <th>0</th>\n",
       "      <td>Richardfort</td>\n",
       "      <td>38</td>\n",
       "      <td>Urban</td>\n",
       "      <td>2018-02-24 08:40:38</td>\n",
       "      <td>13.93</td>\n",
       "      <td>5628545007794</td>\n",
       "    </tr>\n",
       "    <tr>\n",
       "      <th>1</th>\n",
       "      <td>Richardfort</td>\n",
       "      <td>38</td>\n",
       "      <td>Urban</td>\n",
       "      <td>2018-02-13 12:46:07</td>\n",
       "      <td>14.00</td>\n",
       "      <td>910050116494</td>\n",
       "    </tr>\n",
       "    <tr>\n",
       "      <th>2</th>\n",
       "      <td>Richardfort</td>\n",
       "      <td>38</td>\n",
       "      <td>Urban</td>\n",
       "      <td>2018-02-16 13:52:19</td>\n",
       "      <td>17.92</td>\n",
       "      <td>820639054416</td>\n",
       "    </tr>\n",
       "    <tr>\n",
       "      <th>3</th>\n",
       "      <td>Richardfort</td>\n",
       "      <td>38</td>\n",
       "      <td>Urban</td>\n",
       "      <td>2018-02-01 20:18:28</td>\n",
       "      <td>10.26</td>\n",
       "      <td>9554935945413</td>\n",
       "    </tr>\n",
       "    <tr>\n",
       "      <th>4</th>\n",
       "      <td>Richardfort</td>\n",
       "      <td>38</td>\n",
       "      <td>Urban</td>\n",
       "      <td>2018-04-17 02:26:37</td>\n",
       "      <td>23.00</td>\n",
       "      <td>720020655850</td>\n",
       "    </tr>\n",
       "  </tbody>\n",
       "</table>\n",
       "</div>"
      ],
      "text/plain": [
       "          city  driver_count   type                 date   fare        ride_id\n",
       "0  Richardfort            38  Urban  2018-02-24 08:40:38  13.93  5628545007794\n",
       "1  Richardfort            38  Urban  2018-02-13 12:46:07  14.00   910050116494\n",
       "2  Richardfort            38  Urban  2018-02-16 13:52:19  17.92   820639054416\n",
       "3  Richardfort            38  Urban  2018-02-01 20:18:28  10.26  9554935945413\n",
       "4  Richardfort            38  Urban  2018-04-17 02:26:37  23.00   720020655850"
      ]
     },
     "execution_count": 43,
     "metadata": {},
     "output_type": "execute_result"
    }
   ],
   "source": [
    "Pyber_data = pd.merge(city_data_df, ride_data_df, on=\"city\")\n",
    "Pyber_data.head()"
   ]
  },
  {
   "cell_type": "code",
   "execution_count": 44,
   "metadata": {},
   "outputs": [
    {
     "data": {
      "text/plain": [
       "city\n",
       "Amandaburgh             24.641667\n",
       "Barajasview             25.332273\n",
       "Barronchester           36.422500\n",
       "Bethanyland             32.956111\n",
       "Bradshawfurt            40.064000\n",
       "Brandonfort             35.437368\n",
       "Carriemouth             28.314444\n",
       "Christopherfurt         24.501852\n",
       "Colemanland             30.894545\n",
       "Davidfurt               31.995882\n",
       "Deanville               25.842632\n",
       "East Aaronbury          25.661111\n",
       "East Danielview         31.560588\n",
       "East Kaylahaven         23.757931\n",
       "East Kentstad           29.823077\n",
       "East Marymouth          30.835185\n",
       "Erikaland               24.906667\n",
       "Garzaport               24.123333\n",
       "Grahamburgh             25.221200\n",
       "Grayville               27.763333\n",
       "Harringtonfort          33.470000\n",
       "Huntermouth             28.993750\n",
       "Hurleymouth             25.891429\n",
       "Jerryton                25.649200\n",
       "Jessicaport             36.013333\n",
       "Johnton                 26.785714\n",
       "Joneschester            22.289600\n",
       "Josephside              32.858148\n",
       "Justinberg              23.694333\n",
       "Karenberg               26.340000\n",
       "                          ...    \n",
       "South Evanton           26.726129\n",
       "South Jack              22.965263\n",
       "South Jennifer          35.264286\n",
       "South Karenland         26.535526\n",
       "South Latoya            20.093158\n",
       "South Marychester       41.870000\n",
       "South Michelleport      24.451613\n",
       "South Phillip           28.571290\n",
       "South Saramouth         36.160000\n",
       "South Teresa            31.220455\n",
       "Taylorhaven             42.263333\n",
       "Valentineton            24.636364\n",
       "Veronicaberg            32.828235\n",
       "Victoriaport            27.780000\n",
       "West Angela             25.990000\n",
       "West Anthony            24.736667\n",
       "West Christopherberg    24.421154\n",
       "West Ericstad           22.347222\n",
       "West Gabriel            20.346087\n",
       "West Hannah             29.547619\n",
       "West Heather            33.890000\n",
       "West Heidi              23.133929\n",
       "West Josephberg         21.720385\n",
       "West Kimmouth           29.871500\n",
       "West Patrickchester     28.233125\n",
       "West Robert             25.123871\n",
       "West Samuelburgh        21.767600\n",
       "Williamsonville         31.875000\n",
       "Williamsstad            24.362174\n",
       "Williamsview            26.599000\n",
       "Name: fare, Length: 120, dtype: float64"
      ]
     },
     "execution_count": 44,
     "metadata": {},
     "output_type": "execute_result"
    }
   ],
   "source": [
    "#Find the average fare per city.\n",
    "\n",
    "average_fare = Pyber_data.groupby(\"city\")[\"fare\"].mean()\n",
    "average_fare"
   ]
  },
  {
   "cell_type": "code",
   "execution_count": 45,
   "metadata": {},
   "outputs": [
    {
     "data": {
      "text/plain": [
       "city\n",
       "Amandaburgh             18\n",
       "Barajasview             22\n",
       "Barronchester           16\n",
       "Bethanyland             18\n",
       "Bradshawfurt            10\n",
       "Brandonfort             19\n",
       "Carriemouth             27\n",
       "Christopherfurt         27\n",
       "Colemanland             22\n",
       "Davidfurt               17\n",
       "Deanville               19\n",
       "East Aaronbury           9\n",
       "East Danielview         17\n",
       "East Kaylahaven         29\n",
       "East Kentstad           13\n",
       "East Marymouth          27\n",
       "Erikaland               12\n",
       "Garzaport                3\n",
       "Grahamburgh             25\n",
       "Grayville               15\n",
       "Harringtonfort           6\n",
       "Huntermouth             24\n",
       "Hurleymouth             28\n",
       "Jerryton                25\n",
       "Jessicaport              6\n",
       "Johnton                 21\n",
       "Joneschester            25\n",
       "Josephside              27\n",
       "Justinberg              30\n",
       "Karenberg               17\n",
       "                        ..\n",
       "South Evanton           31\n",
       "South Jack              19\n",
       "South Jennifer           7\n",
       "South Karenland         38\n",
       "South Latoya            19\n",
       "South Marychester        8\n",
       "South Michelleport      31\n",
       "South Phillip           31\n",
       "South Saramouth          4\n",
       "South Teresa            22\n",
       "Taylorhaven              6\n",
       "Valentineton            22\n",
       "Veronicaberg            17\n",
       "Victoriaport            14\n",
       "West Angela             39\n",
       "West Anthony            30\n",
       "West Christopherberg    26\n",
       "West Ericstad           18\n",
       "West Gabriel            23\n",
       "West Hannah             21\n",
       "West Heather             9\n",
       "West Heidi              28\n",
       "West Josephberg         26\n",
       "West Kimmouth           20\n",
       "West Patrickchester     16\n",
       "West Robert             31\n",
       "West Samuelburgh        25\n",
       "Williamsonville         14\n",
       "Williamsstad            23\n",
       "Williamsview            20\n",
       "Name: ride_id, Length: 120, dtype: int64"
      ]
     },
     "execution_count": 45,
     "metadata": {},
     "output_type": "execute_result"
    }
   ],
   "source": [
    "#Find the total rides per city\n",
    "\n",
    "total_rides = Pyber_data.groupby(\"city\")[\"ride_id\"].count()\n",
    "total_rides"
   ]
  },
  {
   "cell_type": "code",
   "execution_count": 46,
   "metadata": {},
   "outputs": [
    {
     "data": {
      "text/plain": [
       "city\n",
       "Amandaburgh             12\n",
       "Barajasview             26\n",
       "Barronchester           11\n",
       "Bethanyland             22\n",
       "Bradshawfurt             7\n",
       "Brandonfort             10\n",
       "Carriemouth             52\n",
       "Christopherfurt         41\n",
       "Colemanland             23\n",
       "Davidfurt               23\n",
       "Deanville               49\n",
       "East Aaronbury           7\n",
       "East Danielview         22\n",
       "East Kaylahaven         65\n",
       "East Kentstad           20\n",
       "East Marymouth           5\n",
       "Erikaland               37\n",
       "Garzaport                7\n",
       "Grahamburgh             61\n",
       "Grayville                2\n",
       "Harringtonfort           4\n",
       "Huntermouth             37\n",
       "Hurleymouth             36\n",
       "Jerryton                64\n",
       "Jessicaport              1\n",
       "Johnton                 27\n",
       "Joneschester            39\n",
       "Josephside              25\n",
       "Justinberg              39\n",
       "Karenberg               22\n",
       "                        ..\n",
       "South Evanton           11\n",
       "South Jack              46\n",
       "South Jennifer           7\n",
       "South Karenland          4\n",
       "South Latoya            10\n",
       "South Marychester        1\n",
       "South Michelleport      72\n",
       "South Phillip           38\n",
       "South Saramouth          7\n",
       "South Teresa            21\n",
       "Taylorhaven              1\n",
       "Valentineton            45\n",
       "Veronicaberg            20\n",
       "Victoriaport            16\n",
       "West Angela             48\n",
       "West Anthony            70\n",
       "West Christopherberg    32\n",
       "West Ericstad           25\n",
       "West Gabriel            57\n",
       "West Hannah             12\n",
       "West Heather             4\n",
       "West Heidi              28\n",
       "West Josephberg         45\n",
       "West Kimmouth            4\n",
       "West Patrickchester     25\n",
       "West Robert             39\n",
       "West Samuelburgh        73\n",
       "Williamsonville          2\n",
       "Williamsstad            59\n",
       "Williamsview            46\n",
       "Name: driver_count, Length: 120, dtype: int64"
      ]
     },
     "execution_count": 46,
     "metadata": {},
     "output_type": "execute_result"
    }
   ],
   "source": [
    "#find total drivers per city\n",
    "\n",
    "total_drivers = Pyber_data.groupby(\"city\")[\"driver_count\"].mean()\n",
    "total_drivers"
   ]
  },
  {
   "cell_type": "code",
   "execution_count": 47,
   "metadata": {},
   "outputs": [
    {
     "data": {
      "text/plain": [
       "Urban       66\n",
       "Suburban    36\n",
       "Rural       18\n",
       "Name: type, dtype: int64"
      ]
     },
     "execution_count": 47,
     "metadata": {},
     "output_type": "execute_result"
    }
   ],
   "source": [
    "\n",
    "city_type = city_data_df.set_index('city')['type']\n",
    "\n",
    "\n",
    "city_type.value_counts()"
   ]
  },
  {
   "cell_type": "code",
   "execution_count": 48,
   "metadata": {},
   "outputs": [
    {
     "data": {
      "text/html": [
       "<div>\n",
       "<style scoped>\n",
       "    .dataframe tbody tr th:only-of-type {\n",
       "        vertical-align: middle;\n",
       "    }\n",
       "\n",
       "    .dataframe tbody tr th {\n",
       "        vertical-align: top;\n",
       "    }\n",
       "\n",
       "    .dataframe thead th {\n",
       "        text-align: right;\n",
       "    }\n",
       "</style>\n",
       "<table border=\"1\" class=\"dataframe\">\n",
       "  <thead>\n",
       "    <tr style=\"text-align: right;\">\n",
       "      <th></th>\n",
       "      <th>Average Fare per City</th>\n",
       "      <th>Number of Rides</th>\n",
       "      <th>Number of Drivers</th>\n",
       "      <th>City Type</th>\n",
       "    </tr>\n",
       "  </thead>\n",
       "  <tbody>\n",
       "    <tr>\n",
       "      <th>Amandaburgh</th>\n",
       "      <td>24.641667</td>\n",
       "      <td>18</td>\n",
       "      <td>12</td>\n",
       "      <td>Urban</td>\n",
       "    </tr>\n",
       "    <tr>\n",
       "      <th>Barajasview</th>\n",
       "      <td>25.332273</td>\n",
       "      <td>22</td>\n",
       "      <td>26</td>\n",
       "      <td>Urban</td>\n",
       "    </tr>\n",
       "    <tr>\n",
       "      <th>Barronchester</th>\n",
       "      <td>36.422500</td>\n",
       "      <td>16</td>\n",
       "      <td>11</td>\n",
       "      <td>Suburban</td>\n",
       "    </tr>\n",
       "    <tr>\n",
       "      <th>Bethanyland</th>\n",
       "      <td>32.956111</td>\n",
       "      <td>18</td>\n",
       "      <td>22</td>\n",
       "      <td>Suburban</td>\n",
       "    </tr>\n",
       "    <tr>\n",
       "      <th>Bradshawfurt</th>\n",
       "      <td>40.064000</td>\n",
       "      <td>10</td>\n",
       "      <td>7</td>\n",
       "      <td>Rural</td>\n",
       "    </tr>\n",
       "  </tbody>\n",
       "</table>\n",
       "</div>"
      ],
      "text/plain": [
       "               Average Fare per City  Number of Rides  Number of Drivers  \\\n",
       "Amandaburgh                24.641667               18                 12   \n",
       "Barajasview                25.332273               22                 26   \n",
       "Barronchester              36.422500               16                 11   \n",
       "Bethanyland                32.956111               18                 22   \n",
       "Bradshawfurt               40.064000               10                  7   \n",
       "\n",
       "              City Type  \n",
       "Amandaburgh       Urban  \n",
       "Barajasview       Urban  \n",
       "Barronchester  Suburban  \n",
       "Bethanyland    Suburban  \n",
       "Bradshawfurt      Rural  "
      ]
     },
     "execution_count": 48,
     "metadata": {},
     "output_type": "execute_result"
    }
   ],
   "source": [
    "pyber_cities = pd.DataFrame({\"Average Fare per City\":average_fare,\n",
    "                 \"Number of Rides\": total_rides,\n",
    "                 \"Number of Drivers\": total_drivers,\n",
    "                 \"City Type\": city_type\n",
    "})\n",
    "pyber_cities.head()"
   ]
  },
  {
   "cell_type": "code",
   "execution_count": 49,
   "metadata": {},
   "outputs": [],
   "source": [
    "#Urban\n",
    "urban = pyber_cities.loc[pyber_cities[\"City Type\"]== \"Urban\"]\n",
    "\n",
    "#suburban\n",
    "suburban = pyber_cities.loc[pyber_cities[\"City Type\"]== \"Suburban\"]\n",
    "\n",
    "#rural\n",
    "rural = pyber_cities.loc[pyber_cities[\"City Type\"]== \"Rural\"]"
   ]
  },
  {
   "cell_type": "code",
   "execution_count": 50,
   "metadata": {},
   "outputs": [
    {
     "data": {
      "image/png": "[encoded data removed]",
      "text/plain": [
       "<Figure size 432x288 with 1 Axes>"
      ]
     },
     "metadata": {
      "needs_background": "light"
     },
     "output_type": "display_data"
    }
   ],
   "source": [
    "\n",
    "#Urban\n",
    "plt.scatter(urban[\"Number of Rides\"], urban[\"Average Fare per City\"], color = \"Gold\", edgecolors=\"black\", s = urban[\"Number of Drivers\"]*20, label = \"Urban\", alpha = 0.5, linewidth = 1.5)\n",
    "\n",
    "#Suburban\n",
    "plt.scatter(suburban[\"Number of Rides\"], suburban[\"Average Fare per City\"], color = \"SkyBlue\", edgecolors =\"black\", s = suburban[\"Number of Drivers\"]*20, label = \"Suburban\", alpha = 0.5, linewidth = 1.5)\n",
    "\n",
    "#Rural\n",
    "plt.scatter(rural[\"Number of Rides\"], rural[\"Average Fare per City\"], color = \"Coral\", edgecolors = \"black\", s = rural[\"Number of Drivers\"]*20, label = \"Rural\", alpha = 0.5, linewidth = 1.5)\n",
    "\n",
    "#Add title, x axis label and y axis label.\n",
    "plt.title(\"Average Fare per City versus Number of Rides\")\n",
    "plt.xlabel(\"Number of Rides\")\n",
    "plt.ylabel(\"Average Fare Per City\")\n",
    "plt.text(40, 50,\"Note: Circle size correlates with driver count per city.\")\n",
    "\n",
    "\n",
    "#Add the legend.\n",
    "plt.legend(loc= \"upper right\")\n",
    "\n",
    "#Show plot.\n",
    "plt.show()"
   ]
  },
  {
   "cell_type": "code",
   "execution_count": 51,
   "metadata": {},
   "outputs": [
    {
     "data": {
      "text/plain": [
       "type\n",
       "Rural        4327.93\n",
       "Suburban    19356.33\n",
       "Urban       39854.38\n",
       "Name: fare, dtype: float64"
      ]
     },
     "execution_count": 51,
     "metadata": {},
     "output_type": "execute_result"
    }
   ],
   "source": [
    "#Sum of fares by city type.\n",
    "\n",
    "city_fare_pie = Pyber_data.groupby([\"type\"])[\"fare\"].sum()\n",
    "city_fare_pie"
   ]
  },
  {
   "cell_type": "code",
   "execution_count": 52,
   "metadata": {},
   "outputs": [
    {
     "data": {
      "text/plain": [
       "Index(['Rural', 'Suburban', 'Urban'], dtype='object', name='type')"
      ]
     },
     "execution_count": 52,
     "metadata": {},
     "output_type": "execute_result"
    }
   ],
   "source": [
    "#Use the City Pie index for wedge labels.\n",
    "\n",
    "city_fare_pie.index"
   ]
  },
  {
   "cell_type": "code",
   "execution_count": 53,
   "metadata": {},
   "outputs": [
    {
     "data": {
      "image/png": "[encoded data removed]",
      "text/plain": [
       "<Figure size 432x288 with 1 Axes>"
      ]
     },
     "metadata": {},
     "output_type": "display_data"
    }
   ],
   "source": [
    "#Set the colors of each section of the pie chart.\n",
    "colors = [\"Blue\", \"darkgray\", \"Red\"]\n",
    "\n",
    "#Only explode the third section of the pie chart.\n",
    "\n",
    "explode = (0,0, 0.1)\n",
    "\n",
    "#Create the pie chart.\n",
    "plt.pie(city_fare_pie, labels = city_fare_pie.index, autopct = \"%1.2f%%\", colors = colors, explode = explode, shadow = True, startangle = 270)\n",
    "\n",
    "#Tell Matplotlib that we want a pie chart with equal axes.\n",
    "plt.axis(\"equal\")\n",
    "\n",
    "\n",
    "#Add the legend.\n",
    "plt.legend(loc = \"lower left\")\n",
    "\n",
    "#Show the chart.\n",
    "plt.show()\n"
   ]
  },
  {
   "cell_type": "code",
   "execution_count": 54,
   "metadata": {},
   "outputs": [
    {
     "data": {
      "text/plain": [
       "type\n",
       "Rural        125\n",
       "Suburban     625\n",
       "Urban       1625\n",
       "Name: ride_id, dtype: int64"
      ]
     },
     "execution_count": 54,
     "metadata": {},
     "output_type": "execute_result"
    }
   ],
   "source": [
    "#Total rides by city type.\n",
    "\n",
    "city_rides_pie = Pyber_data.groupby([\"type\"])[\"ride_id\"].count()\n",
    "city_rides_pie\n"
   ]
  },
  {
   "cell_type": "code",
   "execution_count": 55,
   "metadata": {},
   "outputs": [
    {
     "data": {
      "image/png": "[encoded data removed]",
      "text/plain": [
       "<Figure size 432x288 with 1 Axes>"
      ]
     },
     "metadata": {},
     "output_type": "display_data"
    }
   ],
   "source": [
    "#Use the City Pie index for wedge labels.\n",
    "city_rides_pie.index\n",
    "\n",
    "#Set the colors of each section of the pie chart.\n",
    "colors = [\"Blue\", \"darkgray\", \"red\"]\n",
    "\n",
    "#Only explode the first section of the pie chart.\n",
    "explode = (0.5,0,0)\n",
    "\n",
    "#Create the pie chart.\n",
    "plt.pie(city_rides_pie, labels = city_fare_pie.index, autopct = \"%1.2f%%\", colors = colors, explode = explode, shadow = True)\n",
    "\n",
    "#Tell Matplotlib that we wnat the pie chart to have equal axes.\n",
    "plt.axis(\"equal\")\n",
    "\n",
    "#Add the legend.\n",
    "plt.legend(loc = \"lower left\")\n",
    "\n",
    "#Show the chart.\n",
    "plt.show()\n"
   ]
  },
  {
   "cell_type": "code",
   "execution_count": 56,
   "metadata": {},
   "outputs": [
    {
     "data": {
      "text/plain": [
       "type\n",
       "Rural        4.296000\n",
       "Suburban    13.712000\n",
       "Urban       36.678154\n",
       "Name: driver_count, dtype: float64"
      ]
     },
     "execution_count": 56,
     "metadata": {},
     "output_type": "execute_result"
    }
   ],
   "source": [
    "#Total driver count.\n",
    "\n",
    "city_drivers_pie = Pyber_data.groupby([\"type\"])[\"driver_count\"].mean()\n",
    "city_drivers_pie"
   ]
  },
  {
   "cell_type": "code",
   "execution_count": 57,
   "metadata": {},
   "outputs": [
    {
     "data": {
      "image/png": "[encoded data removed]",
      "text/plain": [
       "<Figure size 432x288 with 1 Axes>"
      ]
     },
     "metadata": {},
     "output_type": "display_data"
    }
   ],
   "source": [
    "#Use the City Pie index for the wedge labels.\n",
    "city_drivers_pie.index\n",
    "\n",
    "#Set the colors of each section of the pie chart.\n",
    "colors = [\"blue\", \"darkgray\", \"red\"]\n",
    "\n",
    "#explode the first and second segments of the pie chart.\n",
    "\n",
    "explode = (0.2,0.2,0)\n",
    "\n",
    "#Create the pie chart.\n",
    "plt.pie(city_drivers_pie, labels = city_fare_pie.index, autopct = \"%1.2f%%\", colors = colors, explode = explode, shadow = True)\n",
    "\n",
    "#Tell Matplotlib that we want the chart to have equal axes.\n",
    "plt.axis(\"equal\")\n",
    "\n",
    "#Add the legend.\n",
    "plt.legend(loc = \"lower left\")\n",
    "\n",
    "#Show the pie chart.\n",
    "plt.show()"
   ]
  }
 ],
 "metadata": {
  "kernelspec": {
   "display_name": "Python 3",
   "language": "python",
   "name": "python3"
  },
  "language_info": {
   "codemirror_mode": {
    "name": "ipython",
    "version": 3
   },
   "file_extension": ".py",
   "mimetype": "text/x-python",
   "name": "python",
   "nbconvert_exporter": "python",
   "pygments_lexer": "ipython3",
   "version": "3.7.1"
  }
 },
 "nbformat": 4,
 "nbformat_minor": 2
}
